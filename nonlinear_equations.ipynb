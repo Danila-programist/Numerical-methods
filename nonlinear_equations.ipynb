{
  "nbformat": 4,
  "nbformat_minor": 0,
  "metadata": {
    "colab": {
      "provenance": [],
      "authorship_tag": "ABX9TyPFs0xVc2CR6HRuX2QkvpMV",
      "include_colab_link": true
    },
    "kernelspec": {
      "name": "python3",
      "display_name": "Python 3"
    },
    "language_info": {
      "name": "python"
    }
  },
  "cells": [
    {
      "cell_type": "markdown",
      "metadata": {
        "id": "view-in-github",
        "colab_type": "text"
      },
      "source": [
        "<a href=\"https://colab.research.google.com/github/Danila-programist/Numerical-methods/blob/main/nonlinear_equations.ipynb\" target=\"_parent\"><img src=\"https://colab.research.google.com/assets/colab-badge.svg\" alt=\"Open In Colab\"/></a>"
      ]
    },
    {
      "cell_type": "markdown",
      "source": [
        "С заданной абсолютной погрешностью  Δ  найти приближенное значение корня уравнения  $f(x)=0$ , лежащее в интервале  $(0,10)$ Использовать метод дихотомии и метод Ньютона."
      ],
      "metadata": {
        "id": "vODRPoAC6Omt"
      }
    },
    {
      "cell_type": "markdown",
      "source": [],
      "metadata": {
        "id": "sBv9aeQpIqxA"
      }
    },
    {
      "cell_type": "markdown",
      "source": [
        "1. Прочитать соответствующие главы $(2.1, 2.2)$ в учебнике Калиткина $[1]$. Вопросы для самопроверки:\n",
        "  - Какие есть ограничения на применение метода дихотомии? На какой теореме основывается этот метод?\\\n",
        "  Ответ: \\\n",
        "  основывается на непрерывности функции $f(x)$ на $[a, b]$ и при произведении функций на концах отрезков получается отрицательное число, то по крайней мере существует хотя бы один корень исходного уравнения.\n",
        "  - Критерий окончания счета в методе дихотомии?\\\n",
        "  Ответ: \\\n",
        "  Разность интервалов, в котором задан корень уравнения меньше искомой погрешности $|a_n - b_n| < \\varepsilon$ \\\n",
        "  Количество итераций равняется:\n",
        "   $n \\geq \\log_2 \\left( \\frac{b_n - a_n}{\\varepsilon_x} \\right)$\n",
        "\n",
        "  - Достоинства и недостатки метода дихотомии? \\\n",
        "  Ответ: \\\n",
        "  Достоинства: \\\n",
        "  1) От функии требуется только непрерывность\\\n",
        "  2) Метод очень прост, исключительно надежен и всегда сходится к корню\\\n",
        "  3) На каждой итерации значение функции вычисляется только один раз\\\n",
        "  Недостатки: \\\n",
        "  1) Нужно заранее найти отрезок, на концах которрого функция имеет разные знаки\\\n",
        "  2) Если у функции на отрезке $[a,b]$ имеется несколько корней, то заранее неизвестно, к какому из них сойдется дихотомия\\\n",
        "  3) Метод не позволяет найти корни четной кратности\\\n",
        "  4) Корни нечетной кратности находятся, но кратность их установить невозможно, а процесс тем более чувствителен к ошибкам округления, чем выше кратность корня\\\n",
        "  5) Для многочлена невозможно вычислить комплексные корни\\\n",
        "  6) Дихотомия не обобщается на случай функции многих переменных \\\n",
        "  - Какие есть ограничения на применение метода Ньютона? \\\n",
        "  Ответ: \\\n",
        "   Функция $f(x)$ непрерывна вместе со своей производной на отрезке $[a,b]$\n",
        "  - Критерий окончания счета в метода Ньютона?\n",
        "  Ответ: \\\n",
        "  Разность интервалов, в котором задан корень уравнения меньше искомой погрешности $|x_{n+1} - x_n| < \\varepsilon$ \\\n",
        "  - Достоинства и недостатки метода Ньютона?\n",
        "Ответ: \\\n",
        "Достоинства: \\\n",
        "1) Сходится для корней любой кратности\\\n",
        "2) Квадратичная сходимость вблизи простого корня\\\n",
        "3) Возможность диагностики кратности корня\\\n",
        "4) Не нужно искать отрезок, на котором функция меняет знак\\\n",
        "5) Обобщается на случай многих переменных\\\n",
        "Недостатки: \\\n",
        "1) При далеком начальном приближении сходимость не гарантирована\n"
      ],
      "metadata": {
        "id": "X0AtQhp07P6j"
      }
    },
    {
      "cell_type": "markdown",
      "source": [
        "Заданная функция: \\\n",
        "![image.png](data:image/png;base64,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)\n",
        "\n",
        "\n"
      ],
      "metadata": {
        "id": "_B1aX0mxHepS"
      }
    },
    {
      "cell_type": "markdown",
      "source": [
        "2. Реализовать алгоритмы поиска приближенного значения корня с заданной абсолютной погрешностью методами дихотомии и Ньютона в виде отдельных функций."
      ],
      "metadata": {
        "id": "WPETxIDDIVdS"
      }
    },
    {
      "cell_type": "code",
      "source": [
        "import numpy as np\n",
        "import matplotlib.pyplot as plt\n",
        "import math\n",
        "\n",
        "# Определение функции и её производной\n",
        "def function(x):\n",
        "    return math.cosh(1 + 1/((1 + x)**2)) - x + 6\n",
        "\n",
        "def function_der(x):\n",
        "    numerator = x**2 + 2*x + 2\n",
        "    denominator = x**2 + 2*x + 1\n",
        "    arg = numerator / denominator\n",
        "    sh_term = math.sinh(arg)\n",
        "\n",
        "    return -2 * sh_term / ((x + 1)**3) - 1\n",
        "\n",
        "# Метод дихотомии\n",
        "def bisection(function, a=0, b=10, eps=1e-6, max_iters=100):\n",
        "    if function(a) * function(b) >= 0:\n",
        "        raise ValueError(\"Функция должна иметь разные знаки на концах интервала [a, b]\")\n",
        "\n",
        "    iter_count = 0\n",
        "    while b - a > eps and iter_count < max_iters:\n",
        "        iter_count += 1\n",
        "        midpoint = (a + b) / 2.0\n",
        "        if function(a) * function(midpoint) < 0:\n",
        "            b = midpoint\n",
        "        else:\n",
        "            a = midpoint\n",
        "\n",
        "    if iter_count >= max_iters:\n",
        "        raise Exception(\"Превышено максимальное количество итераций\")\n",
        "\n",
        "    return (a + b) / 2.0 , iter_count\n",
        "\n",
        "# Метод Ньютона\n",
        "def newton(function, function_der, x0, eps=1e-6, max_iters=100):\n",
        "    iter_count = 0\n",
        "    x = x0\n",
        "\n",
        "    while abs(function(x)) > eps and iter_count < max_iters:\n",
        "        iter_count += 1\n",
        "        if function_der(x) == 0:\n",
        "            raise ValueError(\"Производная равна нулю, метод Ньютона не может быть применен\")\n",
        "        x = x - function(x) / function_der(x)\n",
        "\n",
        "    if iter_count >= max_iters:\n",
        "        raise Exception(\"Превышено максимальное количество итераций\")\n",
        "\n",
        "    return x, iter_count"
      ],
      "metadata": {
        "id": "Ij3EEWswItZM"
      },
      "execution_count": 4,
      "outputs": []
    },
    {
      "cell_type": "markdown",
      "source": [
        "3. Изобразите на графике функцию  $f(x)$ Зафиксировав значение абсолютной погрешности, запустите поиск корня методом дихотомии на разных интервалах. Зафиксировав значение абсолютной погрешности, запустите поиск корня методом Ньютона с разнымм значениями начального приближения (разной отдаленности от искомого корня). Получилось ли найти корень функции? Проверьте визуально по графику."
      ],
      "metadata": {
        "id": "ySLLRVyeVYd4"
      }
    },
    {
      "cell_type": "code",
      "source": [
        "# Генерация данных для графика с безопасным диапазоном значений x\n",
        "x_values = np.linspace(0, 15, 10000)  # Избегаем x = -1, где (1 + x)^2 становится 0\n",
        "y_values = [function(x) for x in x_values]\n",
        "\n",
        "# Проверка метода дихотомии на разных интервалах\n",
        "intervals = [(2, 3), (8, 10), (-2, -1.5), (0, 10), (0, 100), (0, 1000000000)]\n",
        "bisection_results = []\n",
        "print(\"--------------------------------------МЕТОД ДИХОТОМИИ при eps = 1e-6--------------------------------------\\n\")\n",
        "# Проверка метода дихотомии\n",
        "for a, b in intervals:\n",
        "    try:\n",
        "        root_bisect, iter_bisect = bisection(function, a, b)\n",
        "        print(f\"Интервал: ({a}, {b}) - Корень: {root_bisect}, Итерации: {iter_bisect}\")\n",
        "    except ValueError as e:\n",
        "        print(f\"Ошибка на интервале ({a}, {b}): {e}\")\n",
        "print(\"\\n--------------------------------------МЕТОД НЬЮТОНА  при eps = 1e-6--------------------------------------\\n\")\n",
        "\n",
        "# Поиск корня методом Ньютона с разными начальными приближениями\n",
        "x0_values = [-2, 1, 2, -0.5, -0.8, 1e+100, 1e+300, 1e+1000]  # Разные начальные приближения\n",
        "\n",
        "for x0 in x0_values:\n",
        "    try:\n",
        "        root_newton, iter_newton = newton(function, function_der, x0)\n",
        "        print(f\"Начальное приближение: {x0} - Корень: {root_newton:}, Итерации: {iter_newton}\")\n",
        "    except (ValueError, Exception) as e:\n",
        "        print(f\"Ошибка с начальным приближением {x0}: {e}\")\n",
        "print()\n",
        "\n",
        "# Визуализация графика функции\n",
        "plt.figure(figsize=(8, 6))\n",
        "plt.plot(x_values, y_values, label=r'$f(x) = \\cosh(1 + \\frac{1}{(1+x)^2}) - x + 6$', color='blue')\n",
        "plt.axhline(0, color='black', linewidth=0.5, linestyle='--')\n",
        "\n",
        "# Настройка графика\n",
        "plt.xlabel(\"$x$\")\n",
        "plt.ylabel(\"$f(x)$\")\n",
        "plt.title(\"График функции $f(x)$ от 0 до 15\")\n",
        "plt.legend()\n",
        "plt.grid()\n",
        "plt.show()"
      ],
      "metadata": {
        "colab": {
          "base_uri": "https://localhost:8080/",
          "height": 913
        },
        "id": "kDXw6FKvWPgE",
        "outputId": "7f429cc2-63d0-47b6-bef4-0f2d60450e8c"
      },
      "execution_count": 6,
      "outputs": [
        {
          "output_type": "stream",
          "name": "stdout",
          "text": [
            "--------------------------------------МЕТОД ДИХОТОМИИ при eps = 1e-6--------------------------------------\n",
            "\n",
            "Ошибка на интервале (2, 3): Функция должна иметь разные знаки на концах интервала [a, b]\n",
            "Ошибка на интервале (8, 10): Функция должна иметь разные знаки на концах интервала [a, b]\n",
            "Ошибка на интервале (-2, -1.5): Функция должна иметь разные знаки на концах интервала [a, b]\n",
            "Интервал: (0, 10) - Корень: 7.55926638841629, Итерации: 24\n",
            "Интервал: (0, 100) - Корень: 7.559266313910484, Итерации: 27\n",
            "Интервал: (0, 1000000000) - Корень: 7.559266546053323, Итерации: 50\n",
            "\n",
            "--------------------------------------МЕТОД НЬЮТОНА  при eps = 1e-6--------------------------------------\n",
            "\n",
            "Начальное приближение: -2 - Корень: 7.559266171037773, Итерации: 4\n",
            "Начальное приближение: 1 - Корень: 7.559266164824439, Итерации: 3\n",
            "Начальное приближение: 2 - Корень: 7.559266171889788, Итерации: 3\n",
            "Начальное приближение: -0.5 - Корень: 7.559266115566005, Итерации: 7\n",
            "Начальное приближение: -0.8 - Корень: 7.559266171899299, Итерации: 30\n",
            "Начальное приближение: 1e+100 - Корень: 7.559266170192069, Итерации: 5\n",
            "Ошибка с начальным приближением 1e+300: (34, 'Numerical result out of range')\n",
            "Начальное приближение: inf - Корень: nan, Итерации: 1\n",
            "\n"
          ]
        },
        {
          "output_type": "display_data",
          "data": {
            "text/plain": [
              "<Figure size 800x600 with 1 Axes>"
            ],
            "image/png": "[encoded data removed]"
          },
          "metadata": {}
        }
      ]
    },
    {
      "cell_type": "markdown",
      "source": [
        "4. Зафиксировав интервал (для метода дихотомии) и начальное приближение (для метода Ньютона), меняйте значение абсолютной погрешности. Для каждого метода, для значений абсолютной погрешности  $Δ=10^{−3},10^{−6},10^{−9}$  вывести в консоль"
      ],
      "metadata": {
        "id": "lFeQXYambU4n"
      }
    },
    {
      "cell_type": "code",
      "source": [
        "# Фиксированные параметры\n",
        "interval_bisection = (2, 10)  # Интервал для метода дихотомии\n",
        "x0_newton = 2  # Начальное приближение для метода Ньютона\n",
        "\n",
        "# Абсолютные погрешности для проверки\n",
        "epsilons = [1e-3, 1e-6, 1e-9]\n",
        "\n",
        "# Метод дихотомии\n",
        "print(\"--------------------------------------МЕТОД ДИХОТОМИИ при фиксированном интервале--------------------------------------\\n\")\n",
        "for eps in epsilons:\n",
        "    try:\n",
        "        root_bisect, iter_bisect = bisection(function, interval_bisection[0], interval_bisection[1], eps)\n",
        "        # Невязка\n",
        "        residual = function(root_bisect)\n",
        "        print(f\"Delta = {eps}, x = {root_bisect}, Невязка = {residual}, Итерации = {iter_bisect}\")\n",
        "    except ValueError as e:\n",
        "        print(f\"Ошибка на интервале {interval_bisection}: {e}\")\n",
        "\n",
        "# Метод Ньютона\n",
        "print(\"\\n--------------------------------------МЕТОД НЬЮТОНА при фиксированном начальном приблежении--------------------------------------\\n\")\n",
        "for eps in epsilons:\n",
        "    try:\n",
        "        root_newton, iter_newton = newton(function, function_der, x0_newton, eps)\n",
        "        # Невязка\n",
        "        residual_newton = function(root_newton)\n",
        "        print(f\"Delta = {eps}, x = {root_newton}, Невязка = {residual_newton}, Итерации = {iter_newton}\")\n",
        "    except (ValueError, Exception) as e:\n",
        "        print(f\"Ошибка с начальным приближением {x0_newton}: {e}\")"
      ],
      "metadata": {
        "colab": {
          "base_uri": "https://localhost:8080/"
        },
        "id": "v9Y4dMXwyAKa",
        "outputId": "5a042679-d361-4fff-ac99-9bc90a7fddf3"
      },
      "execution_count": 9,
      "outputs": [
        {
          "output_type": "stream",
          "name": "stdout",
          "text": [
            "--------------------------------------МЕТОД ДИХОТОМИИ при фиксированном интервале--------------------------------------\n",
            "\n",
            "Delta = 0.001, x = 7.55908203125, Невязка = 0.00018484331905099793, Итерации = 13\n",
            "Delta = 1e-06, x = 7.559266567230225, Невязка = -3.9683942887336343e-07, Итерации = 23\n",
            "Delta = 1e-09, x = 7.559266171883792, Невязка = 1.5573320411021996e-11, Итерации = 33\n",
            "\n",
            "--------------------------------------МЕТОД НЬЮТОНА при фиксированном начальном приблежении--------------------------------------\n",
            "\n",
            "Delta = 0.001, x = 7.559147350912283, Невязка = 0.00011927439557712916, Итерации = 2\n",
            "Delta = 1e-06, x = 7.559266171889788, Невязка = 9.554135260714247e-12, Итерации = 3\n",
            "Delta = 1e-09, x = 7.559266171889788, Невязка = 9.554135260714247e-12, Итерации = 3\n"
          ]
        }
      ]
    }
  ]
}